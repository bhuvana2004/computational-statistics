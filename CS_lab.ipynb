{
  "nbformat": 4,
  "nbformat_minor": 0,
  "metadata": {
    "colab": {
      "provenance": [],
      "authorship_tag": "ABX9TyPI0j9F5ibVbsylMKfKRHTN",
      "include_colab_link": true
    },
    "kernelspec": {
      "name": "python3",
      "display_name": "Python 3"
    },
    "language_info": {
      "name": "python"
    }
  },
  "cells": [
    {
      "cell_type": "markdown",
      "metadata": {
        "id": "view-in-github",
        "colab_type": "text"
      },
      "source": [
        "<a href=\"https://colab.research.google.com/github/bhuvana2004/computational-statistics/blob/main/CS_lab.ipynb\" target=\"_parent\"><img src=\"https://colab.research.google.com/assets/colab-badge.svg\" alt=\"Open In Colab\"/></a>"
      ]
    },
    {
      "cell_type": "code",
      "execution_count": null,
      "metadata": {
        "colab": {
          "base_uri": "https://localhost:8080/"
        },
        "id": "BrolUtspFNIg",
        "outputId": "a4138a26-a4b7-4fa1-fd44-f49dcca07ca3"
      },
      "outputs": [
        {
          "output_type": "stream",
          "name": "stdout",
          "text": [
            "[2.  3.  4.5]\n"
          ]
        }
      ],
      "source": [
        "import numpy as np\n",
        "x=np.array([2,3,4.5],dtype=float)\n",
        "print(x)"
      ]
    },
    {
      "cell_type": "code",
      "source": [
        "import numpy as np\n",
        "x=np.arange(7)\n",
        "print(x)"
      ],
      "metadata": {
        "colab": {
          "base_uri": "https://localhost:8080/"
        },
        "id": "rfZCDKmGFrsD",
        "outputId": "d5bd56d9-492f-4ae2-d4d5-b13d8f227cf0"
      },
      "execution_count": null,
      "outputs": [
        {
          "output_type": "stream",
          "name": "stdout",
          "text": [
            "[0 1 2 3 4 5 6]\n"
          ]
        }
      ]
    },
    {
      "cell_type": "code",
      "source": [
        "x=np.zeros((3,5))\n",
        "print(x)"
      ],
      "metadata": {
        "colab": {
          "base_uri": "https://localhost:8080/"
        },
        "id": "ehvlo82LGB5N",
        "outputId": "5ba81e54-3f97-4729-fc38-249d947bccbf"
      },
      "execution_count": null,
      "outputs": [
        {
          "output_type": "stream",
          "name": "stdout",
          "text": [
            "[[0. 0. 0. 0. 0.]\n",
            " [0. 0. 0. 0. 0.]\n",
            " [0. 0. 0. 0. 0.]]\n"
          ]
        }
      ]
    },
    {
      "cell_type": "code",
      "source": [
        "x=np.arange(2,20,3)\n",
        "print(x)"
      ],
      "metadata": {
        "colab": {
          "base_uri": "https://localhost:8080/"
        },
        "id": "IT8P4R5cGK4s",
        "outputId": "f1082c5a-3934-4d40-8686-a986a0584fd4"
      },
      "execution_count": null,
      "outputs": [
        {
          "output_type": "stream",
          "name": "stdout",
          "text": [
            "[ 2  5  8 11 14 17]\n"
          ]
        }
      ]
    },
    {
      "cell_type": "code",
      "source": [
        "x=np.array([1,2,3,4,56]) \n",
        "y=x[1:4] \n",
        "print(x)\n",
        "print(y)"
      ],
      "metadata": {
        "colab": {
          "base_uri": "https://localhost:8080/"
        },
        "id": "L9GMlPpgGqaz",
        "outputId": "15964648-8a09-47f5-a796-673495f584ef"
      },
      "execution_count": null,
      "outputs": [
        {
          "output_type": "stream",
          "name": "stdout",
          "text": [
            "[ 1  2  3  4 56]\n",
            "[2 3 4]\n"
          ]
        }
      ]
    },
    {
      "cell_type": "code",
      "source": [
        "y[2]=11\n",
        "print(x)\n",
        "print(y)"
      ],
      "metadata": {
        "colab": {
          "base_uri": "https://localhost:8080/"
        },
        "id": "fQtHgeOAGlyT",
        "outputId": "bb322e20-dc53-453b-887b-d6d15ceb77d2"
      },
      "execution_count": null,
      "outputs": [
        {
          "output_type": "stream",
          "name": "stdout",
          "text": [
            "[ 1  2  3 11 56]\n",
            "[ 2  3 11]\n"
          ]
        }
      ]
    },
    {
      "cell_type": "code",
      "source": [
        "x[2]=44\n",
        "print(x)\n",
        "print(y)"
      ],
      "metadata": {
        "colab": {
          "base_uri": "https://localhost:8080/"
        },
        "id": "76ZXlRDTG4Bo",
        "outputId": "bc9e788c-e7f5-4076-819e-f94d18cfd929"
      },
      "execution_count": null,
      "outputs": [
        {
          "output_type": "stream",
          "name": "stdout",
          "text": [
            "[ 1  2 44 11 44]\n",
            "[ 2 44 11]\n"
          ]
        }
      ]
    },
    {
      "cell_type": "code",
      "source": [
        "k=[1,3,5]\n",
        "x=np.array([1,2,3,4,5,6,76])\n",
        "print(x[k])"
      ],
      "metadata": {
        "colab": {
          "base_uri": "https://localhost:8080/"
        },
        "id": "dbjieLWrHLNI",
        "outputId": "0c234824-2c8f-4bf8-956e-a6ccd1d19dce"
      },
      "execution_count": null,
      "outputs": [
        {
          "output_type": "stream",
          "name": "stdout",
          "text": [
            "[2 4 6]\n"
          ]
        }
      ]
    },
    {
      "cell_type": "code",
      "source": [
        "x=np.array([[1,2,3],[4,5,6]])\n",
        "print(x.shape)\n",
        "print(x.ndim)\n",
        "print(x.size)\n",
        "print(x.dtype)\n",
        "print(x.itemsize)"
      ],
      "metadata": {
        "colab": {
          "base_uri": "https://localhost:8080/"
        },
        "id": "ZYjGVrs6HWOA",
        "outputId": "081db5ad-27f1-4644-b0b2-7d96d250aa74"
      },
      "execution_count": null,
      "outputs": [
        {
          "output_type": "stream",
          "name": "stdout",
          "text": [
            "(2, 3)\n",
            "2\n",
            "6\n",
            "int64\n",
            "8\n"
          ]
        }
      ]
    },
    {
      "cell_type": "code",
      "source": [
        "x[1,1]"
      ],
      "metadata": {
        "colab": {
          "base_uri": "https://localhost:8080/"
        },
        "id": "d5pOcr-lIJQC",
        "outputId": "53c6f1e7-d8cd-4cb9-f545-d6da465fba1b"
      },
      "execution_count": null,
      "outputs": [
        {
          "output_type": "execute_result",
          "data": {
            "text/plain": [
              "5"
            ]
          },
          "metadata": {},
          "execution_count": 20
        }
      ]
    },
    {
      "cell_type": "code",
      "source": [
        "x[1][1]"
      ],
      "metadata": {
        "colab": {
          "base_uri": "https://localhost:8080/"
        },
        "id": "atA0SGo9IOgI",
        "outputId": "78bab083-f1b3-4bd4-b900-c13f8987453b"
      },
      "execution_count": null,
      "outputs": [
        {
          "output_type": "execute_result",
          "data": {
            "text/plain": [
              "5"
            ]
          },
          "metadata": {},
          "execution_count": 21
        }
      ]
    },
    {
      "cell_type": "code",
      "source": [
        "import matplotlib.pyplot as plt\n",
        "x=np.linspace(10,20,6)\n",
        "print(x)\n",
        "plt.plot(x)\n",
        "plt.show()"
      ],
      "metadata": {
        "colab": {
          "base_uri": "https://localhost:8080/",
          "height": 282
        },
        "id": "z7JH6r7oIRBQ",
        "outputId": "70f095f8-2da1-4bf3-821b-acb6f41c837b"
      },
      "execution_count": null,
      "outputs": [
        {
          "output_type": "stream",
          "name": "stdout",
          "text": [
            "[10. 12. 14. 16. 18. 20.]\n"
          ]
        },
        {
          "output_type": "display_data",
          "data": {
            "text/plain": [
              "<Figure size 432x288 with 1 Axes>"
            ],
            "image/png": "[encoded data removed]"
          },
          "metadata": {
            "needs_background": "light"
          }
        }
      ]
    },
    {
      "cell_type": "code",
      "source": [
        "import matplotlib.pyplot as plt\n",
        "x=np.linspace(10,20,6)\n",
        "y=np.arange(6)\n",
        "print(x,y)\n",
        "plt.plot(x,y,'o-')\n",
        "plt.show()"
      ],
      "metadata": {
        "colab": {
          "base_uri": "https://localhost:8080/",
          "height": 282
        },
        "id": "NtmdSCiFIppG",
        "outputId": "e026ecfc-d8fa-4b1b-9196-31f59068cde0"
      },
      "execution_count": null,
      "outputs": [
        {
          "output_type": "stream",
          "name": "stdout",
          "text": [
            "[10. 12. 14. 16. 18. 20.] [0 1 2 3 4 5]\n"
          ]
        },
        {
          "output_type": "display_data",
          "data": {
            "text/plain": [
              "<Figure size 432x288 with 1 Axes>"
            ],
            "image/png": "[encoded data removed]"
          },
          "metadata": {
            "needs_background": "light"
          }
        }
      ]
    },
    {
      "cell_type": "code",
      "source": [
        "import matplotlib.pyplot as plt\n",
        "x=np.linspace(10,20,6)\n",
        "y=np.arange(6)\n",
        "print(x,y)\n",
        "plt.scatter(x,y)\n",
        "plt.show()"
      ],
      "metadata": {
        "colab": {
          "base_uri": "https://localhost:8080/",
          "height": 282
        },
        "id": "BoVG7HezJJz9",
        "outputId": "5a8393f0-115c-41eb-f226-33f15a5a7e00"
      },
      "execution_count": null,
      "outputs": [
        {
          "output_type": "stream",
          "name": "stdout",
          "text": [
            "[10. 12. 14. 16. 18. 20.] [0 1 2 3 4 5]\n"
          ]
        },
        {
          "output_type": "display_data",
          "data": {
            "text/plain": [
              "<Figure size 432x288 with 1 Axes>"
            ],
            "image/png": "[encoded data removed]"
          },
          "metadata": {
            "needs_background": "light"
          }
        }
      ]
    },
    {
      "cell_type": "code",
      "source": [
        "x=np.array([0,1,3,6,8])\n",
        "y=np.array([1,3,2,5,4])\n",
        "x1=0\n",
        "y1=0\n",
        "n=5\n",
        "for i in x:\n",
        "    x1=i+x1\n",
        "print(x1)\n",
        "for i in y:\n",
        "    y1=i+y1\n",
        "print(y1)\n",
        "z=x*y\n",
        "print(z)\n",
        "z1=0\n",
        "for i in z:\n",
        "    z1=z1+i\n",
        "print(z1)\n",
        "x2=x*x\n",
        "print(x2)\n",
        "z2=0\n",
        "for i in x2:\n",
        "    z2=z2+i\n",
        "print(z2)\n",
        "a=((z2*y1)-(x1*z1))/((n*z2)-(x1*x1))\n",
        "b=((n*z1)-(x1*y1))/((n*z2)-(x1*x1))\n",
        "print(a)\n",
        "print(b)\n",
        "print('y=', a ,'+', b ,'x')\n",
        "y=a+b*x\n",
        "plt.plot(y)\n",
        "plt.show()\n",
        "print('y=', a ,'+', b ,'x')\n",
        "y2=a+b*x\n",
        "print(y2)\n",
        "plt.scatter(y2,y)\n",
        "plt.plot(y2,y)\n",
        "plt.plot(y2,'o-')\n",
        "print(y)\n",
        "\n",
        "plt.show()\n",
        "    "
      ],
      "metadata": {
        "colab": {
          "base_uri": "https://localhost:8080/",
          "height": 721
        },
        "id": "jj6FqrnaSDCZ",
        "outputId": "51b51b99-9047-45cf-de1b-56bdef2750ed"
      },
      "execution_count": null,
      "outputs": [
        {
          "output_type": "stream",
          "name": "stdout",
          "text": [
            "18\n",
            "15\n",
            "[ 0  3  6 30 32]\n",
            "71\n",
            "[ 0  1  9 36 64]\n",
            "110\n",
            "1.6460176991150441\n",
            "0.37610619469026546\n",
            "y= 1.6460176991150441 + 0.37610619469026546 x\n"
          ]
        },
        {
          "output_type": "display_data",
          "data": {
            "text/plain": [
              "<Figure size 432x288 with 1 Axes>"
            ],
            "image/png": "[encoded data removed]"
          },
          "metadata": {
            "needs_background": "light"
          }
        },
        {
          "output_type": "stream",
          "name": "stdout",
          "text": [
            "y= 1.6460176991150441 + 0.37610619469026546 x\n",
            "[1.6460177  2.02212389 2.77433628 3.90265487 4.65486726]\n",
            "[1.6460177  2.02212389 2.77433628 3.90265487 4.65486726]\n"
          ]
        },
        {
          "output_type": "display_data",
          "data": {
            "text/plain": [
              "<Figure size 432x288 with 1 Axes>"
            ],
            "image/png": "[encoded data removed]"
          },
          "metadata": {
            "needs_background": "light"
          }
        }
      ]
    },
    {
      "cell_type": "code",
      "source": [
        "import numpy as np\n",
        "import matplotlib,py as plt\n",
        "x=np.array([0,1,3,6,8])\n",
        "y=np.array([1,3,2,5,4])\n",
        "x1=0\n",
        "y1=0\n",
        "n=5\n",
        "for i in x:\n",
        "    x1=i+x1\n",
        "print(x1)\n",
        "for i in y:\n",
        "    y1=i+y1\n",
        "print(y1)\n",
        "z=x*y\n",
        "print(z)\n",
        "z1=0\n",
        "for i in z:\n",
        "    z1=z1+i\n",
        "print(z1)\n",
        "x2=x*x\n",
        "print(x2)\n",
        "z2=0\n",
        "for i in x2:\n",
        "    z2=z2+i\n",
        "print(z2)\n",
        "a=((z2*y1)-(x1*z1))/((n*z2)-(x1*x1))\n",
        "b=((n*z1)-(x1*y1))/((n*z2)-(x1*x1))\n",
        "print(a)\n",
        "print(b)\n",
        "print('y=', a ,'+', b ,'x')\n",
        "y2=a+b*x\n",
        "print(y2)\n",
        "plt.scatter(y,y2)\n",
        "plt.plot(y,y2)\n",
        "plt.plot(y,'o-')\n",
        "print(y)\n",
        "\n",
        "plt.show()"
      ],
      "metadata": {
        "id": "j49Fg6NCYSmv",
        "outputId": "5959f1f7-0143-4f3f-97e4-e48245ec3659",
        "colab": {
          "base_uri": "https://localhost:8080/",
          "height": 408
        }
      },
      "execution_count": null,
      "outputs": [
        {
          "output_type": "stream",
          "name": "stdout",
          "text": [
            "18\n",
            "15\n",
            "[ 0  3  6 30 32]\n",
            "71\n",
            "[ 0  1  9 36 64]\n",
            "110\n",
            "1.6460176991150441\n",
            "0.37610619469026546\n",
            "y= 1.6460176991150441 + 0.37610619469026546 x\n",
            "[1.6460177  2.02212389 2.77433628 3.90265487 4.65486726]\n"
          ]
        },
        {
          "output_type": "error",
          "ename": "AttributeError",
          "evalue": "ignored",
          "traceback": [
            "\u001b[0;31m---------------------------------------------------------------------------\u001b[0m",
            "\u001b[0;31mAttributeError\u001b[0m                            Traceback (most recent call last)",
            "\u001b[0;32m<ipython-input-3-83de41827baa>\u001b[0m in \u001b[0;36m<module>\u001b[0;34m()\u001b[0m\n\u001b[1;32m     31\u001b[0m \u001b[0my2\u001b[0m\u001b[0;34m=\u001b[0m\u001b[0ma\u001b[0m\u001b[0;34m+\u001b[0m\u001b[0mb\u001b[0m\u001b[0;34m*\u001b[0m\u001b[0mx\u001b[0m\u001b[0;34m\u001b[0m\u001b[0;34m\u001b[0m\u001b[0m\n\u001b[1;32m     32\u001b[0m \u001b[0mprint\u001b[0m\u001b[0;34m(\u001b[0m\u001b[0my2\u001b[0m\u001b[0;34m)\u001b[0m\u001b[0;34m\u001b[0m\u001b[0;34m\u001b[0m\u001b[0m\n\u001b[0;32m---> 33\u001b[0;31m \u001b[0mplt\u001b[0m\u001b[0;34m.\u001b[0m\u001b[0mscatter\u001b[0m\u001b[0;34m(\u001b[0m\u001b[0my\u001b[0m\u001b[0;34m,\u001b[0m\u001b[0my2\u001b[0m\u001b[0;34m)\u001b[0m\u001b[0;34m\u001b[0m\u001b[0;34m\u001b[0m\u001b[0m\n\u001b[0m\u001b[1;32m     34\u001b[0m \u001b[0mplt\u001b[0m\u001b[0;34m.\u001b[0m\u001b[0mplot\u001b[0m\u001b[0;34m(\u001b[0m\u001b[0my\u001b[0m\u001b[0;34m,\u001b[0m\u001b[0my2\u001b[0m\u001b[0;34m)\u001b[0m\u001b[0;34m\u001b[0m\u001b[0;34m\u001b[0m\u001b[0m\n\u001b[1;32m     35\u001b[0m \u001b[0mplt\u001b[0m\u001b[0;34m.\u001b[0m\u001b[0mplot\u001b[0m\u001b[0;34m(\u001b[0m\u001b[0my\u001b[0m\u001b[0;34m,\u001b[0m\u001b[0;34m'o-'\u001b[0m\u001b[0;34m)\u001b[0m\u001b[0;34m\u001b[0m\u001b[0;34m\u001b[0m\u001b[0m\n",
            "\u001b[0;31mAttributeError\u001b[0m: module 'matplotlib' has no attribute 'scatter'"
          ]
        }
      ]
    },
    {
      "cell_type": "code",
      "source": [],
      "metadata": {
        "id": "y1808xT4YL5v"
      },
      "execution_count": null,
      "outputs": []
    }
  ]
}